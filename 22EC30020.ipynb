{
  "nbformat": 4,
  "nbformat_minor": 0,
  "metadata": {
    "colab": {
      "provenance": [],
      "include_colab_link": true
    },
    "kernelspec": {
      "name": "python3",
      "display_name": "Python 3"
    },
    "language_info": {
      "name": "python"
    }
  },
  "cells": [
    {
      "cell_type": "markdown",
      "metadata": {
        "id": "view-in-github",
        "colab_type": "text"
      },
      "source": [
        "<a href=\"https://colab.research.google.com/github/lohithganni/Expense-Tracker/blob/main/22EC30020.ipynb\" target=\"_parent\"><img src=\"https://colab.research.google.com/assets/colab-badge.svg\" alt=\"Open In Colab\"/></a>"
      ]
    },
    {
      "cell_type": "code",
      "source": [
        "import cv2\n",
        "import numpy as np\n",
        "import matplotlib.pyplot as plt\n"
      ],
      "metadata": {
        "id": "FgiAPc2rIqA6"
      },
      "execution_count": 9,
      "outputs": []
    },
    {
      "cell_type": "code",
      "source": [
        "def DFS_iterative(x, y, count, labels_map, visited, instance_map):\n",
        "    \"\"\"\n",
        "    Perform iterative depth-first search to label connected components.\n",
        "\n",
        "    Args:\n",
        "    x, y: Starting pixel coordinates.\n",
        "    count: Current label for connected component.\n",
        "    labels_map: 2D numpy array containing labels.\n",
        "    visited: 2D numpy array to keep track of visited pixels.\n",
        "    instance_map: 2D numpy array to store the result.\n",
        "    \"\"\"\n",
        "    # Direction vectors for traversing neighbors (8 directions)\n",
        "    directions = [(-1, 0), (1, 0), (0, -1), (0, 1), (-1, -1), (-1, 1), (1, -1), (1, 1)]\n",
        "\n",
        "    # stack is initialized with starting pixel\n",
        "    stack = [(x, y)]\n",
        "    visited[x, y] = True  # starting pixel marked as visited\n",
        "    instance_map[x, y] = count\n",
        "\n",
        "    while stack:\n",
        "        current_x, current_y = stack.pop()\n",
        "\n",
        "        for dx, dy in directions:\n",
        "            new_x, new_y = current_x + dx, current_y + dy\n",
        "\n",
        "            # Check if the new position is within bounds, not visited, and has the same label\n",
        "            if 0 <= new_x < labels_map.shape[0] and 0 <= new_y < labels_map.shape[1]:\n",
        "                if not visited[new_x, new_y] and labels_map[new_x, new_y] == labels_map[current_x, current_y]:\n",
        "                    visited[new_x, new_y] = True\n",
        "                    instance_map[new_x, new_y] = count\n",
        "                    stack.append((new_x, new_y))"
      ],
      "metadata": {
        "id": "O_ZaC1fjMf-S"
      },
      "execution_count": 10,
      "outputs": []
    },
    {
      "cell_type": "code",
      "source": [
        "# This is a helpful\n",
        "def color_and_save_map(instance_map=None,\n",
        "                       file_name = \"Instance_map.png\"):\n",
        "    \"\"\"Relabels a instance map from 0 to unique labels.\n",
        "\n",
        "    Args:\n",
        "    instance_map: A 2-D NumPy array representing the instance map.\n",
        "\n",
        "    Returns:\n",
        "    A 3D NumPy array of shape [H,W,C] representing the RGB relabeled instance map.\n",
        "    \"\"\"\n",
        "    assert instance_map.ndim == 2, \"Instance map must be a 2-D array.\"\n",
        "    assert instance_map.dtype == np.uint8, \"Instance map must be a 8-bit unsigned integer array.\"\n",
        "\n",
        "    # Create a dictionary to map old labels to new labels\n",
        "    label_map = {}\n",
        "    new_label = 0\n",
        "\n",
        "\n",
        "    # Get unique labels and store it in array unique_labels\n",
        "    unique_labels = np.sort(np.unique(instance_map))\n",
        "\n",
        "    total_labels = len(unique_labels)\n",
        "\n",
        "    # Iterate through the unique labels and re-map them to range 0,1,2...,total_labels-1\n",
        "    for i in range(total_labels):\n",
        "        label = unique_labels[i]\n",
        "        if label not in label_map:\n",
        "            label_map[label] = i\n",
        "\n",
        "    # Relabel the semantic map using the created dictionary\n",
        "    relabeled_map = np.vectorize(lambda x: label_map[x])(instance_map)\n",
        "\n",
        "    # relabeled_map = np.stack((relabeled_map, relabeled_map, relabeled_map), axis=2)\n",
        "\n",
        "    relabeled_map = relabeled_map*(255//len(unique_labels))\n",
        "\n",
        "    relabeled_map = relabeled_map.astype(instance_map.dtype)\n",
        "\n",
        "    # Convert relabeled map to RGB colored Image\n",
        "    relabeled_map_color = cv2.applyColorMap(relabeled_map.reshape((relabeled_map.shape[0], relabeled_map.shape[1], 1)),\n",
        "                                            cv2.COLORMAP_JET).astype(np.uint8)\n",
        "\n",
        "    # Set label 0 to [0,0,0] color\n",
        "    relabeled_map_color[relabeled_map==0,:] = 0\n",
        "\n",
        "    #save image\n",
        "    cv2.imwrite(file_name , relabeled_map_color)\n",
        "\n",
        "\n",
        "    return relabeled_map_color\n"
      ],
      "metadata": {
        "id": "pK9asJwuJIGn"
      },
      "execution_count": 11,
      "outputs": []
    },
    {
      "cell_type": "code",
      "execution_count": 18,
      "metadata": {
        "id": "bvqP7sryIiol",
        "outputId": "6ab911bd-d37a-4391-99e9-4a352a980584",
        "colab": {
          "base_uri": "https://localhost:8080/",
          "height": 723
        }
      },
      "outputs": [
        {
          "output_type": "stream",
          "name": "stdout",
          "text": [
            "Sematic map is as follows:\n"
          ]
        },
        {
          "output_type": "display_data",
          "data": {
            "text/plain": [
              "<Figure size 640x480 with 1 Axes>"
            ],
            "image/png": "[encoded data removed]"
          },
          "metadata": {}
        },
        {
          "output_type": "stream",
          "name": "stdout",
          "text": [
            "Instance map is as follows:\n"
          ]
        },
        {
          "output_type": "execute_result",
          "data": {
            "text/plain": [
              "<matplotlib.image.AxesImage at 0x7a3f504e7070>"
            ]
          },
          "metadata": {},
          "execution_count": 18
        },
        {
          "output_type": "display_data",
          "data": {
            "text/plain": [
              "<Figure size 640x480 with 1 Axes>"
            ],
            "image/png": "[encoded data removed]"
          },
          "metadata": {}
        }
      ],
      "source": [
        "# upload 00039_Semantic.png image from dog-goose to Colab\n",
        "# path to image\n",
        "semantic_map_path = \"./00039_Semantic.png\"\n",
        "\n",
        "# load image to a numpy array [Height, Width, Channels]\n",
        "semantic_map = cv2.imread(semantic_map_path)\n",
        "\n",
        "\n",
        "\n",
        "print(\"Sematic map is as follows:\")\n",
        "# plot image\n",
        "#   - Convert from BGR to RGB for displaying\n",
        "plt.imshow(semantic_map[:,:,::-1])\n",
        "plt.show()\n",
        "\n",
        "\n",
        "# semnatic map array is of shape [H,W,C], where C = 3 = RGB channels\n",
        "H,W,C = semantic_map.shape\n",
        "\n",
        "# Create a numpy array of all zeros , of same shape as\n",
        "instance_map = np.zeros((H,W), dtype = np.uint8)\n",
        "\n",
        "# create labels map by averaging Blue,Green and Red pixel values\n",
        "labels_map = (semantic_map[:,:,0]/3.0 + semantic_map[:,:,1]/3.0 + semantic_map[:,:,2]/3.0)\n",
        "labels_map = labels_map.astype(np.uint8)\n",
        "\n",
        "# Your code to compute Instance map, save it in variable instance_map\n",
        "\n",
        "visited = np.full((H, W), False, dtype=bool)\n",
        "instance_map = np.zeros((H, W), dtype=np.uint8)\n",
        "count = 1\n",
        "\n",
        "\n",
        "for i in range(H):\n",
        "    for j in range(W):\n",
        "        if labels_map[i, j] != 0 and not visited[i, j]:\n",
        "            DFS_iterative(i, j, count, labels_map, visited, instance_map)\n",
        "            count += 1\n",
        "\n",
        "# End of the code\n",
        "\n",
        "\n",
        "# For now we are going to plot and write the label_map\n",
        "# for presentation purposes. But you code will\n",
        "\n",
        "instance_map_color = color_and_save_map(instance_map=instance_map,\n",
        "                                        file_name = \"Instance_map.png\")\n",
        "\n",
        "\n",
        "\n",
        "\n",
        "print(\"Instance map is as follows:\")\n",
        "# plot image\n",
        "#   - Convert from BGR to RGB for displaying\n",
        "plt.imshow(instance_map_color[:,:,::-1])\n",
        "\n",
        "\n"
      ]
    },
    {
      "cell_type": "code",
      "source": [],
      "metadata": {
        "id": "JM2bWltKV-xI"
      },
      "execution_count": null,
      "outputs": []
    }
  ]
}